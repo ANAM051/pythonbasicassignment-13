{
 "cells": [
  {
   "cell_type": "markdown",
   "id": "669f56bb",
   "metadata": {},
   "source": [
    "1. What advantages do Excel spreadsheets have over CSV spreadsheets?\n",
    "2.What do you pass to csv.reader() and csv.writer() to create reader and writer objects?\n",
    "3. What modes do File objects for reader and writer objects need to be opened in?\n",
    "4. what method takes a list argument and writes it to a CSV file?\n",
    "5. What do the keyword arguments delimiter and line terminator do?\n",
    "6. What function takes a string of JSON data and returns a Python data structure?\n",
    "7. What function takes a Python data structure and returns a string of JSON data?"
   ]
  },
  {
   "cell_type": "markdown",
   "id": "c42c4d37",
   "metadata": {},
   "source": [
    "1.In excel spreadsheet all the data is presented in format means columns and rows are separated while in csv(comma separated \n",
    "  values)  spreadsheet all the data separated only through a comma.                                                                                                         "
   ]
  },
  {
   "cell_type": "code",
   "execution_count": null,
   "id": "1704de95",
   "metadata": {},
   "outputs": [],
   "source": [
    "2."
   ]
  },
  {
   "cell_type": "code",
   "execution_count": null,
   "id": "c9b8ba94",
   "metadata": {},
   "outputs": [],
   "source": [
    "3.For csv.reader(iterable_file_object), the file objects needed to be opened in read mode mode='r' Whereas for csv.writer(iterab\n",
    "le_file_object) the file objects needed to be opened in write mode mode='w'"
   ]
  },
  {
   "cell_type": "markdown",
   "id": "80fd420a",
   "metadata": {},
   "source": [
    "4.dictwriter"
   ]
  },
  {
   "cell_type": "markdown",
   "id": "dcdf61a4",
   "metadata": {},
   "source": [
    "5.delimiter goes inside the csv file and tell where one value ends and other value begins,but terminator goes at the end of line\n",
    "and terminates the line"
   ]
  },
  {
   "cell_type": "markdown",
   "id": "7435510a",
   "metadata": {},
   "source": [
    "6.json.loads()function takes json data and gives python data structure."
   ]
  },
  {
   "cell_type": "markdown",
   "id": "48b688b1",
   "metadata": {},
   "source": [
    "7. import module, create a function, create a dictionary, convert dictionary to json object using dumps() method ,return json object "
   ]
  },
  {
   "cell_type": "code",
   "execution_count": null,
   "id": "7c7a3384",
   "metadata": {},
   "outputs": [],
   "source": []
  },
  {
   "cell_type": "code",
   "execution_count": null,
   "id": "5c0dc5c4",
   "metadata": {},
   "outputs": [],
   "source": []
  },
  {
   "cell_type": "code",
   "execution_count": null,
   "id": "7f46829a",
   "metadata": {},
   "outputs": [],
   "source": []
  }
 ],
 "metadata": {
  "kernelspec": {
   "display_name": "Python 3 (ipykernel)",
   "language": "python",
   "name": "python3"
  },
  "language_info": {
   "codemirror_mode": {
    "name": "ipython",
    "version": 3
   },
   "file_extension": ".py",
   "mimetype": "text/x-python",
   "name": "python",
   "nbconvert_exporter": "python",
   "pygments_lexer": "ipython3",
   "version": "3.9.12"
  }
 },
 "nbformat": 4,
 "nbformat_minor": 5
}
